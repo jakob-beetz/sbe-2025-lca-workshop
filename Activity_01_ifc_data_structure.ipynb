{
  "cells": [
    {
      "cell_type": "markdown",
      "id": "1cc4d476",
      "metadata": {
        "id": "1cc4d476"
      },
      "source": [
        "# Hands-on IFC data exploration\n",
        "24.06.2025 Zurich\n",
        "\n",
        "Following are a series of activities that are a part of BIM and LLMs in LCA workshop, SBE25. The aim is exploring the underlying data structure within an IFC model and learning ways to extract bill of materials from it."
      ]
    },
    {
      "cell_type": "markdown",
      "id": "094bdad2",
      "metadata": {
        "id": "094bdad2"
      },
      "source": [
        "## First of all: IFC file - what is actually inside?"
      ]
    },
    {
      "cell_type": "markdown",
      "id": "67ce7a3b",
      "metadata": {
        "id": "67ce7a3b"
      },
      "source": [
        "## IFC model import"
      ]
    },
    {
      "cell_type": "code",
      "source": [
        "!pip install ifcopenshell\n",
        "!pip install pandas\n",
        "import ifcopenshell\n",
        "import ifcopenshell.util.element"
      ],
      "metadata": {
        "id": "NHAQnFpkj_Nj"
      },
      "id": "NHAQnFpkj_Nj",
      "execution_count": null,
      "outputs": []
    },
    {
      "cell_type": "code",
      "source": [
        "model = ifcopenshell.open(\"./sbe25/data/IFC_models/1072_HiLo_Model-Architecture-IFC4.ifc\")"
      ],
      "metadata": {
        "id": "i3KlqbS5kHZe"
      },
      "id": "i3KlqbS5kHZe",
      "execution_count": null,
      "outputs": []
    },
    {
      "cell_type": "code",
      "execution_count": null,
      "id": "4e643ab0",
      "metadata": {
        "id": "4e643ab0"
      },
      "outputs": [],
      "source": [
        "project = model.by_type(\"IfcProject\")[0]\n",
        "print(project)"
      ]
    },
    {
      "cell_type": "markdown",
      "id": "f657a9cd",
      "metadata": {
        "id": "f657a9cd"
      },
      "source": [
        "This is a string representation of an object instance, of the `IfcProject` entity."
      ]
    },
    {
      "cell_type": "markdown",
      "id": "ea202979",
      "metadata": {
        "id": "ea202979"
      },
      "source": [
        "## Accessing the model contents of an IFC file\n",
        "### `by_type()` function\n"
      ]
    },
    {
      "cell_type": "markdown",
      "id": "61847d94",
      "metadata": {
        "id": "61847d94"
      },
      "source": [
        "### Finding all the building elements:"
      ]
    },
    {
      "cell_type": "code",
      "execution_count": null,
      "id": "dc385e40",
      "metadata": {
        "id": "dc385e40"
      },
      "outputs": [],
      "source": [
        "buildingelements = model.by_type(\"IfcBuildingElement\")\n",
        "\n",
        "print(buildingelements)"
      ]
    },
    {
      "cell_type": "markdown",
      "id": "cd9bc238",
      "metadata": {
        "id": "cd9bc238"
      },
      "source": [
        "### Let's make it a bit easier to read:"
      ]
    },
    {
      "cell_type": "code",
      "execution_count": null,
      "id": "e177a781",
      "metadata": {
        "id": "e177a781"
      },
      "outputs": [],
      "source": [
        "for buildingelement in buildingelements:\n",
        "    print(buildingelement)"
      ]
    },
    {
      "cell_type": "markdown",
      "id": "98b4a30e",
      "metadata": {
        "id": "98b4a30e"
      },
      "source": [
        "### What other ways are there to find building elements? `by_guid()`, `by_id()` functions"
      ]
    },
    {
      "cell_type": "code",
      "execution_count": null,
      "id": "e158a6cf",
      "metadata": {
        "id": "e158a6cf"
      },
      "outputs": [],
      "source": [
        "object2 = model.by_id('write the ID here')  # Replace with any ID from the model\n",
        "\n",
        "print(object2)"
      ]
    },
    {
      "cell_type": "code",
      "execution_count": null,
      "id": "e912c7aa",
      "metadata": {
        "id": "e912c7aa"
      },
      "outputs": [],
      "source": [
        "object = model.by_guid(\"write the GUID here\") # Replace with any GUID from the model\n",
        "\n",
        "print(object)"
      ]
    },
    {
      "cell_type": "markdown",
      "source": [
        "### What about an IFC viewer? - Can we find these objects there?"
      ],
      "metadata": {
        "id": "6TGTrWXyj36y"
      },
      "id": "6TGTrWXyj36y"
    },
    {
      "cell_type": "code",
      "source": [
        "from IPython.display import IFrame\n",
        "IFrame(src='https://app.speckle.systems/projects/8d7bac3e0a/models/ce1e2a8ad7', width=1200, height=600)"
      ],
      "metadata": {
        "id": "hZazGcTRjxMI"
      },
      "id": "hZazGcTRjxMI",
      "execution_count": null,
      "outputs": []
    },
    {
      "cell_type": "markdown",
      "id": "294d9c28",
      "metadata": {
        "id": "294d9c28"
      },
      "source": [
        "### How many are there in total? `len()` function"
      ]
    },
    {
      "cell_type": "code",
      "execution_count": null,
      "id": "d9962f89",
      "metadata": {
        "id": "d9962f89"
      },
      "outputs": [],
      "source": [
        "len(buildingelements)"
      ]
    },
    {
      "cell_type": "markdown",
      "id": "8776481c",
      "metadata": {
        "id": "8776481c"
      },
      "source": [
        "### Let's pick one object and have a closer look:"
      ]
    },
    {
      "cell_type": "code",
      "execution_count": null,
      "id": "c02d061c",
      "metadata": {
        "id": "c02d061c"
      },
      "outputs": [],
      "source": [
        "buildingelement = buildingelements[80]\n",
        "\n",
        "buildingelement.get_info()"
      ]
    },
    {
      "cell_type": "markdown",
      "id": "748d9e08",
      "metadata": {
        "id": "748d9e08"
      },
      "source": [
        "`model.get_inverse(b)` returns a list of all IFC entities that refer to the entity `b` through inverse relationships, as defined by the IFC schema. This includes entities like `IfcRelContainedInSpatialStructure`, `IfcRelAssociates`, etc., which point to `b` in their forward relations.\n"
      ]
    },
    {
      "cell_type": "code",
      "execution_count": null,
      "id": "0e6dc9d0",
      "metadata": {
        "id": "0e6dc9d0"
      },
      "outputs": [],
      "source": [
        "model.get_inverse(buildingelement)"
      ]
    },
    {
      "cell_type": "markdown",
      "id": "f7e30ee9",
      "metadata": {
        "id": "f7e30ee9"
      },
      "source": [
        "### Where is this element in the model hierarchy?\n",
        "\n",
        "`model.traverse(buildingelement, max_levels=1)` returns a dictionary of the direct attributes of IFC entity `buildingelement`. It expands only one level deep into nested IFC entities, making it useful for shallow inspection of structure and references.\n"
      ]
    },
    {
      "cell_type": "code",
      "execution_count": null,
      "id": "61078636",
      "metadata": {
        "id": "61078636"
      },
      "outputs": [],
      "source": [
        "model.traverse(buildingelement, max_levels=1)"
      ]
    },
    {
      "cell_type": "markdown",
      "id": "784d41f5",
      "metadata": {
        "id": "784d41f5"
      },
      "source": [
        "### Now let's try to find all the wall instances in the project:"
      ]
    },
    {
      "cell_type": "code",
      "execution_count": null,
      "id": "dadcc67c",
      "metadata": {
        "id": "dadcc67c"
      },
      "outputs": [],
      "source": [
        "# Find all the IfcWall instances (use walls as the variable name)"
      ]
    },
    {
      "cell_type": "code",
      "execution_count": null,
      "id": "e0d340c2",
      "metadata": {
        "id": "e0d340c2"
      },
      "outputs": [],
      "source": [
        "# Create a loop to print all walls"
      ]
    },
    {
      "cell_type": "code",
      "execution_count": null,
      "id": "0063ca9c",
      "metadata": {
        "id": "0063ca9c"
      },
      "outputs": [],
      "source": [
        "# How many walls are there?"
      ]
    },
    {
      "cell_type": "code",
      "execution_count": null,
      "id": "6ac1a285",
      "metadata": {
        "id": "6ac1a285"
      },
      "outputs": [],
      "source": [
        "# Pick one wall and print its information"
      ]
    },
    {
      "cell_type": "markdown",
      "source": [
        "### Can you filter IfcWalls in the 3D IFC-viewer?"
      ],
      "metadata": {
        "id": "u305OyfhmdwT"
      },
      "id": "u305OyfhmdwT"
    },
    {
      "cell_type": "code",
      "source": [
        "from IPython.display import IFrame\n",
        "IFrame(src='https://app.speckle.systems/projects/8d7bac3e0a/models/ce1e2a8ad7', width=1200, height=600)"
      ],
      "metadata": {
        "id": "S9hCwyVSmc_U"
      },
      "id": "S9hCwyVSmc_U",
      "execution_count": null,
      "outputs": []
    },
    {
      "cell_type": "markdown",
      "id": "f15b0765",
      "metadata": {
        "id": "f15b0765"
      },
      "source": [
        "## Properties"
      ]
    },
    {
      "cell_type": "markdown",
      "id": "51dbd1b8",
      "metadata": {
        "id": "51dbd1b8"
      },
      "source": [
        "### How can we see the properties of building elements? Here is an example for one."
      ]
    },
    {
      "cell_type": "code",
      "execution_count": null,
      "id": "12f3c51f",
      "metadata": {
        "id": "12f3c51f"
      },
      "outputs": [],
      "source": [
        "# Pick the first one from the list of building elements\n",
        "buildingelem = buildingelements[0]\n",
        "\n",
        "print(buildingelem)"
      ]
    },
    {
      "cell_type": "code",
      "execution_count": null,
      "id": "9bc18e41",
      "metadata": {
        "id": "9bc18e41"
      },
      "outputs": [],
      "source": [
        "ifcopenshell.util.element.get_psets(buildingelem)"
      ]
    },
    {
      "cell_type": "markdown",
      "id": "17737d10",
      "metadata": {
        "id": "17737d10"
      },
      "source": [
        "### Now, let's list the properties of a wall together."
      ]
    },
    {
      "cell_type": "code",
      "execution_count": null,
      "id": "30a19362",
      "metadata": {
        "id": "30a19362"
      },
      "outputs": [],
      "source": [
        "# Pick a wall from the list of walls\n",
        "wall = walls[50]"
      ]
    },
    {
      "cell_type": "code",
      "execution_count": null,
      "id": "f9c263df",
      "metadata": {
        "id": "f9c263df"
      },
      "outputs": [],
      "source": [
        "# List the property sets of the wall\n",
        "ifcopenshell.util.element.get_psets(wall)"
      ]
    },
    {
      "cell_type": "markdown",
      "id": "8487fb28",
      "metadata": {
        "id": "8487fb28"
      },
      "source": [
        "### Is this wall interior or exterior?"
      ]
    },
    {
      "cell_type": "code",
      "execution_count": null,
      "id": "26a10fdc",
      "metadata": {
        "id": "26a10fdc"
      },
      "outputs": [],
      "source": [
        "psets_wall = ifcopenshell.util.element.get_psets(wall)\n",
        "\n",
        "psets_wall[\"Construction\"].get(\"Function\")"
      ]
    },
    {
      "cell_type": "markdown",
      "source": [
        "### Can we see this information in the 3D IFC-viewer?"
      ],
      "metadata": {
        "id": "atWi-CcSmqZ_"
      },
      "id": "atWi-CcSmqZ_"
    },
    {
      "cell_type": "code",
      "source": [
        "from IPython.display import IFrame\n",
        "IFrame(src='https://app.speckle.systems/projects/8d7bac3e0a/models/ce1e2a8ad7', width=1200, height=600)"
      ],
      "metadata": {
        "id": "Td29q72gmwjJ"
      },
      "id": "Td29q72gmwjJ",
      "execution_count": null,
      "outputs": []
    },
    {
      "cell_type": "markdown",
      "id": "77b14f28",
      "metadata": {
        "id": "77b14f28"
      },
      "source": [
        "### Is it a structural wall? Try to find it out yourself."
      ]
    },
    {
      "cell_type": "code",
      "execution_count": null,
      "id": "cf481c38",
      "metadata": {
        "id": "cf481c38"
      },
      "outputs": [],
      "source": [
        "# Pick a wall from the list\n",
        "\n",
        "\n",
        "\n",
        "# List the property sets of the wall\n",
        "\n",
        "\n",
        "\n",
        "# Try to find out if it is a load-bearing wall\n"
      ]
    },
    {
      "cell_type": "markdown",
      "id": "ce427528",
      "metadata": {
        "id": "ce427528"
      },
      "source": [
        "### Can we find all the exterior walls and them to a list?"
      ]
    },
    {
      "cell_type": "code",
      "execution_count": null,
      "id": "cd3dacab",
      "metadata": {
        "id": "cd3dacab"
      },
      "outputs": [],
      "source": [
        "exterior_walls = []\n",
        "\n",
        "for wall in walls:\n",
        "    psets = ifcopenshell.util.element.get_psets(wall)\n",
        "\n",
        "    try:\n",
        "        if psets[\"Construction\"].get(\"Function\") == 'Exterior':\n",
        "            exterior_walls.append(wall)\n",
        "            print(wall)\n",
        "    except KeyError:\n",
        "        pass"
      ]
    },
    {
      "cell_type": "markdown",
      "id": "350367e0",
      "metadata": {
        "id": "350367e0"
      },
      "source": [
        "### Now, can you find all the load-bearing/structural walls and them to a list?"
      ]
    },
    {
      "cell_type": "code",
      "execution_count": null,
      "id": "749c9238",
      "metadata": {
        "id": "749c9238"
      },
      "outputs": [],
      "source": [
        "# Find all the IfcWall instances and check if they are load-bearing\n",
        "\n"
      ]
    },
    {
      "cell_type": "markdown",
      "id": "f4ccb3ec",
      "metadata": {
        "id": "f4ccb3ec"
      },
      "source": [
        "## Quantities"
      ]
    },
    {
      "cell_type": "markdown",
      "id": "d4e5f84a",
      "metadata": {
        "id": "d4e5f84a"
      },
      "source": [
        "### Can we measure the quantities of model elements? (such as dimensions, area, volume and so on)"
      ]
    },
    {
      "cell_type": "code",
      "execution_count": null,
      "id": "a21361e8",
      "metadata": {
        "id": "a21361e8"
      },
      "outputs": [],
      "source": [
        "# Pick the first wall (or any element you want)\n",
        "wall = model.by_type(\"IfcWall\")[80]\n",
        "\n",
        "#list the property sets of the wall\n",
        "ifcopenshell.util.element.get_psets(wall)\n"
      ]
    },
    {
      "cell_type": "markdown",
      "id": "a613e850",
      "metadata": {
        "id": "a613e850"
      },
      "source": [
        "### Let's look at the quantities more closely. Can you print out the width, height or area of a wall?"
      ]
    },
    {
      "cell_type": "code",
      "execution_count": null,
      "id": "6d139b64",
      "metadata": {
        "id": "6d139b64"
      },
      "outputs": [],
      "source": [
        "# Try to find the quantity values\n",
        "\n"
      ]
    },
    {
      "cell_type": "markdown",
      "id": "1f62ad37",
      "metadata": {
        "id": "1f62ad37"
      },
      "source": [
        "### Another method to print out all the properties within a property set:"
      ]
    },
    {
      "cell_type": "code",
      "execution_count": null,
      "id": "aebe7106",
      "metadata": {
        "id": "aebe7106"
      },
      "outputs": [],
      "source": [
        "# Get the BaseQuantities property set\n",
        "base_quantities = psets.get(\"BaseQuantities\", {})"
      ]
    },
    {
      "cell_type": "markdown",
      "id": "457233a3",
      "metadata": {
        "id": "457233a3"
      },
      "source": [
        "### Do all walls have base quantities?"
      ]
    },
    {
      "cell_type": "code",
      "execution_count": null,
      "id": "a2f87b3e",
      "metadata": {
        "id": "a2f87b3e"
      },
      "outputs": [],
      "source": [
        "for wall in walls:\n",
        "\n",
        "    psets = ifcopenshell.util.element.get_psets(wall)\n",
        "\n",
        "    base_quantities = psets.get(\"BaseQuantities\", {})\n",
        "\n",
        "    print(base_quantities)"
      ]
    },
    {
      "cell_type": "markdown",
      "id": "202f920b",
      "metadata": {
        "id": "202f920b"
      },
      "source": [
        "### Let's find all the walls that have height as a base quantity."
      ]
    },
    {
      "cell_type": "code",
      "execution_count": null,
      "id": "b6676069",
      "metadata": {
        "id": "b6676069"
      },
      "outputs": [],
      "source": [
        "for wall in walls:\n",
        "    psets = ifcopenshell.util.element.get_psets(wall)\n",
        "\n",
        "    base_quantities = psets.get(\"BaseQuantities\", {})\n",
        "\n",
        "    if 'Height' in base_quantities:\n",
        "        print(f\"Wall {wall.Name} has a height of {base_quantities['Height']}\")\n"
      ]
    },
    {
      "cell_type": "markdown",
      "id": "bb1e249f",
      "metadata": {
        "id": "bb1e249f"
      },
      "source": [
        "### Let's find all the walls higher than 2 metres."
      ]
    },
    {
      "cell_type": "code",
      "execution_count": null,
      "id": "ee7c3888",
      "metadata": {
        "id": "ee7c3888"
      },
      "outputs": [],
      "source": [
        "for wall in walls:\n",
        "    psets = ifcopenshell.util.element.get_psets(wall)\n",
        "\n",
        "    base_quantities = psets.get(\"BaseQuantities\", {})\n",
        "\n",
        "    if 'Height' in base_quantities:\n",
        "        height = base_quantities['Height']\n",
        "\n",
        "        if height > 2000:\n",
        "            print(f\"Wall {wall.Name} has a height of {height}, which is greater than 2000 mm.\")\n"
      ]
    },
    {
      "cell_type": "markdown",
      "id": "5ebcc438",
      "metadata": {
        "id": "5ebcc438"
      },
      "source": [
        "### Can you check if the selected wall is thicker than 15 mm?"
      ]
    },
    {
      "cell_type": "code",
      "execution_count": null,
      "id": "07b4a84f",
      "metadata": {
        "id": "07b4a84f"
      },
      "outputs": [],
      "source": [
        "# Check whether the wall is thicker than 15 mm"
      ]
    },
    {
      "cell_type": "markdown",
      "id": "5e17a318",
      "metadata": {
        "id": "5e17a318"
      },
      "source": [
        "### Can you find all the walls thicker than 15 mm?"
      ]
    },
    {
      "cell_type": "code",
      "execution_count": null,
      "id": "576dd935",
      "metadata": {
        "id": "576dd935"
      },
      "outputs": [],
      "source": [
        "# Find all the walls thicker than 15 mm - don't forget to check if the base quantity exists"
      ]
    },
    {
      "cell_type": "markdown",
      "source": [
        "### Let's check it also in the 3D IFC-viewer."
      ],
      "metadata": {
        "id": "A3rAzSN3nOKH"
      },
      "id": "A3rAzSN3nOKH"
    },
    {
      "cell_type": "code",
      "source": [
        "from IPython.display import IFrame\n",
        "IFrame(src='https://app.speckle.systems/projects/8d7bac3e0a/models/ce1e2a8ad7', width=1200, height=600)"
      ],
      "metadata": {
        "id": "L9zBykRgnTt0"
      },
      "id": "L9zBykRgnTt0",
      "execution_count": null,
      "outputs": []
    },
    {
      "cell_type": "markdown",
      "id": "8fd2cb7f",
      "metadata": {
        "id": "8fd2cb7f"
      },
      "source": [
        "## Materials"
      ]
    },
    {
      "cell_type": "markdown",
      "id": "57989165",
      "metadata": {
        "id": "57989165"
      },
      "source": [
        "### Can we see the layers of materials within a composite structure?"
      ]
    },
    {
      "cell_type": "code",
      "execution_count": null,
      "id": "f922ab12",
      "metadata": {
        "id": "f922ab12"
      },
      "outputs": [],
      "source": [
        "def print_material_layers(el):\n",
        "    for assoc in getattr(el, \"HasAssociations\", []):\n",
        "        if assoc.is_a(\"IfcRelAssociatesMaterial\"):\n",
        "            mat = assoc.RelatingMaterial\n",
        "            if mat.is_a(\"IfcMaterialLayerSetUsage\"):\n",
        "                for layer in mat.ForLayerSet.MaterialLayers:\n",
        "                    print(f\"Material: {layer.Material.Name}, Thickness: {layer.LayerThickness} mm\")\n"
      ]
    },
    {
      "cell_type": "code",
      "execution_count": null,
      "id": "0c20211e",
      "metadata": {
        "id": "0c20211e"
      },
      "outputs": [],
      "source": [
        "# Try on a wall\n",
        "wall = model.by_type(\"IfcWall\")[200]\n",
        "\n",
        "print(f\"{getattr(wall, 'Name', '')}\")\n",
        "\n",
        "print_material_layers(wall)"
      ]
    },
    {
      "cell_type": "markdown",
      "id": "9b324851",
      "metadata": {
        "id": "9b324851"
      },
      "source": [
        "## Exporting Data to an Excel List"
      ]
    },
    {
      "cell_type": "markdown",
      "id": "680b1c99",
      "metadata": {
        "id": "680b1c99"
      },
      "source": [
        "### How can we export the IFC model data when needed?"
      ]
    },
    {
      "cell_type": "code",
      "execution_count": null,
      "id": "cae4d970",
      "metadata": {
        "id": "cae4d970"
      },
      "outputs": [],
      "source": [
        "import pandas as pd\n",
        "from collections import defaultdict"
      ]
    },
    {
      "cell_type": "code",
      "execution_count": null,
      "id": "ec2cb3b5",
      "metadata": {
        "id": "ec2cb3b5"
      },
      "outputs": [],
      "source": [
        "# Element types to include\n",
        "element_types = [\"IfcWall\", \"IfcSlab\", \"IfcBeam\", \"IfcColumn\", \"IfcDoor\", \"IfcWindow\"]\n",
        "\n",
        "# Group elements by Name\n",
        "grouped_elements = defaultdict(list)\n",
        "\n",
        "for element_type in element_types:\n",
        "    for el in model.by_type(element_type):\n",
        "        name = getattr(el, \"ObjectType\", \"\").strip() or \"Unnamed\"\n",
        "        grouped_elements[name].append(el)\n",
        "        print(name)\n",
        "        print(el)\n",
        "\n",
        "\n",
        "# Summarize each group\n",
        "summary = []\n",
        "\n",
        "for name, group in grouped_elements.items():\n",
        "    representative = group[0]\n",
        "    ifc_type = representative.is_a()\n",
        "    object_type = getattr(representative, \"ObjectType\", \"\") or \"\"\n",
        "\n",
        "    material_layers = set()\n",
        "\n",
        "    for el in group:\n",
        "        for assoc in getattr(el, \"HasAssociations\", []):\n",
        "            if assoc.is_a(\"IfcRelAssociatesMaterial\"):\n",
        "                mat = assoc.RelatingMaterial\n",
        "\n",
        "                if mat.is_a(\"IfcMaterial\"):\n",
        "                    material_layers.add(mat.Name)\n",
        "\n",
        "                elif mat.is_a(\"IfcMaterialLayerSetUsage\"):\n",
        "                    for layer in mat.ForLayerSet.MaterialLayers:\n",
        "                        if layer.Material:\n",
        "                            material_layers.add(layer.Material.Name)\n",
        "\n",
        "                elif mat.is_a(\"IfcMaterialProfileSetUsage\"):\n",
        "                    for profile in mat.ForProfileSet.MaterialProfiles:\n",
        "                        if profile.Material:\n",
        "                            material_layers.add(profile.Material.Name)\n",
        "\n",
        "                elif mat.is_a(\"IfcMaterialList\"):\n",
        "                    for m in mat.Materials:\n",
        "                        if m:\n",
        "                            material_layers.add(m.Name)\n",
        "\n",
        "    material_desc = \" | \".join(sorted(material_layers)) if material_layers else \"No material\"\n",
        "\n",
        "    summary.append({\n",
        "        \"Name\": name,\n",
        "        \"Count\": len(group),\n",
        "        \"IFC Type\": ifc_type,\n",
        "        \"Material Layers\": material_desc\n",
        "    })\n",
        "\n",
        "# Export to DataFrame\n",
        "df = pd.DataFrame(summary)\n",
        "\n",
        "# Save to Excel\n",
        "df.to_excel(\"grouped_building_elements_summary.xlsx\", index=False)\n",
        "\n",
        "# Display\n",
        "df.head()"
      ]
    }
  ],
  "metadata": {
    "kernelspec": {
      "display_name": "Python 3",
      "language": "python",
      "name": "python3"
    },
    "language_info": {
      "codemirror_mode": {
        "name": "ipython",
        "version": 3
      },
      "file_extension": ".py",
      "mimetype": "text/x-python",
      "name": "python",
      "nbconvert_exporter": "python",
      "pygments_lexer": "ipython3",
      "version": "3.10.11"
    },
    "colab": {
      "provenance": []
    }
  },
  "nbformat": 4,
  "nbformat_minor": 5
}