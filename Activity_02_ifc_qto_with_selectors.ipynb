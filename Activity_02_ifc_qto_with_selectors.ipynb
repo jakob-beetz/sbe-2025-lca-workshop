{
  "cells": [
    {
      "cell_type": "markdown",
      "metadata": {},
      "source": [
        "# Easy quantities with IfcOpenShell Selectors"
      ]
    },
    {
      "cell_type": "markdown",
      "metadata": {},
      "source": [
        "Do the basic import of necessary modules"
      ]
    },
    {
      "cell_type": "code",
      "execution_count": null,
      "metadata": {
        "colab": {
          "base_uri": "https://localhost:8080/"
        },
        "id": "qr3_imxZ3rEc",
        "outputId": "8c67e139-a799-4fc0-942d-bbbc961c06e6"
      },
      "outputs": [],
      "source": [
        "!git clone https://github.com/jakob-beetz/sbe-2025-lca-workshop.git"
      ]
    },
    {
      "cell_type": "code",
      "execution_count": null,
      "metadata": {
        "colab": {
          "base_uri": "https://localhost:8080/"
        },
        "id": "51OSm5B83z-R",
        "outputId": "647e70ee-4208-491a-9ea8-516dff3b62fe"
      },
      "outputs": [],
      "source": [
        "!pip install ifcopenshell\n",
        "%cd sbe-2025-lca-workshop"
      ]
    },
    {
      "cell_type": "code",
      "execution_count": null,
      "metadata": {
        "id": "joXFfr2p4Jtk"
      },
      "outputs": [],
      "source": [
        "import ifcopenshell\n",
        "import pandas as pd"
      ]
    },
    {
      "cell_type": "markdown",
      "metadata": {},
      "source": [
        "Let's import the Duplex Model \n",
        "If you would like to work on Hilo model instead, uncomment the second line"
      ]
    },
    {
      "cell_type": "code",
      "execution_count": null,
      "metadata": {
        "id": "aiw_iHla4P52"
      },
      "outputs": [],
      "source": [
        "m = ifcopenshell.open(\"/content/sbe-2025-lca-workshop/data/IFC_models/Duplex_QTO.ifc\")\n",
        "# m = ifcopenshell.open(\"/content/sbe-2025-lca-workshop/data/IFC_models/HiLo.ifc\")"
      ]
    },
    {
      "cell_type": "markdown",
      "metadata": {
        "id": "g9TXqcoQI0Gy"
      },
      "source": [
        "Let's inspect the Model. Get all the spaces"
      ]
    },
    {
      "cell_type": "code",
      "execution_count": null,
      "metadata": {
        "colab": {
          "base_uri": "https://localhost:8080/"
        },
        "id": "fR_jDGBI4UbF",
        "outputId": "de5b786c-01a6-47e4-9308-a917441d9300"
      },
      "outputs": [],
      "source": [
        "m.by_type(\"IfcSpace\")"
      ]
    },
    {
      "cell_type": "markdown",
      "metadata": {
        "id": "WFArrI7jJCh7"
      },
      "source": [
        "Ok, these are the raw entity instances as they appear in the IFC text (SPFF) file. Not very readable for the non-technical reader.\n",
        "\n",
        "Let's just list the names:"
      ]
    },
    {
      "cell_type": "code",
      "execution_count": null,
      "metadata": {
        "id": "iEn6W9bVJUwB"
      },
      "outputs": [],
      "source": [
        "for space in m.by_type(\"IfcSpace\"):\n",
        "    print(space.LongName)"
      ]
    },
    {
      "cell_type": "code",
      "execution_count": null,
      "metadata": {
        "colab": {
          "base_uri": "https://localhost:8080/"
        },
        "id": "vWJ0wFPsKEJB",
        "outputId": "e831e099-662a-4b25-9b44-215ddbf1443d"
      },
      "outputs": [],
      "source": [
        "for wall in m.by_type(\"IfcWall\"):\n",
        "    print(wall.Name)"
      ]
    },
    {
      "cell_type": "markdown",
      "metadata": {},
      "source": [
        "# Produral way  to walk throught the model\n",
        "For each wall, list all possible ways to define materials in IFC"
      ]
    },
    {
      "cell_type": "code",
      "execution_count": null,
      "metadata": {
        "colab": {
          "base_uri": "https://localhost:8080/"
        },
        "id": "X9IVirvKKalA",
        "outputId": "fc0dca8c-4d17-4a64-f05f-18dc9447fe8c"
      },
      "outputs": [],
      "source": [
        "for wall in m.by_type(\"IfcWall\"):\n",
        "  for rel in wall.HasAssociations:\n",
        "    if rel.is_a(\"IfcRelAssociatesMaterial\"):\n",
        "      if rel.RelatingMaterial.is_a(\"IfcMaterial\"):\n",
        "        print(f\"Wall: {wall.Name}, Material: {rel.RelatingMaterial.Name}\")\n",
        "      elif rel.RelatingMaterial.is_a(\"IfcMaterialList\"):\n",
        "        material_names = [mat.Name for mat in rel.RelatingMaterial.Materials]\n",
        "        print(f\"Wall: {wall.Name}, Materials: {', '.join(material_names)}\")\n",
        "      elif rel.RelatingMaterial.is_a(\"IfcMaterialLayerSetUsage\"):\n",
        "        material_names = [layer.Material.Name for layer in rel.RelatingMaterial.ForLayerSet.MaterialLayers]\n",
        "        print(f\"Wall: {wall.Name}, Material Layers: {', '.join(material_names)}\")\n",
        "      elif rel.RelatingMaterial.is_a(\"IfcMaterialConstituentSet\"):\n",
        "          constituents = []\n",
        "          for constituent in rel.RelatingMaterial.MaterialConstituents:\n",
        "              if constituent.Material:\n",
        "                  constituents.append(constituent.Material.Name)\n",
        "          print(f\"Wall: {wall.Name}, Material Constituents: {', '.join(constituents)}\")"
      ]
    },
    {
      "cell_type": "markdown",
      "metadata": {},
      "source": [
        "# Selector\n",
        "Selectors of ifcopenshell are a way to query the model in a more human readable way."
      ]
    },
    {
      "cell_type": "code",
      "execution_count": null,
      "metadata": {
        "colab": {
          "base_uri": "https://localhost:8080/"
        },
        "id": "yYgnEHj6PLnT",
        "outputId": "96a307c2-a07c-48f2-d6fa-4070c86ec8a9"
      },
      "outputs": [],
      "source": [
        "import ifcopenshell.util.selector\n",
        "wall = m.by_type(\"IfcWall\")[3]\n",
        "# Get the Name attribute of the wall's type.\n",
        "print(ifcopenshell.util.selector.get_element_value(wall, \"material.Name\"))\n",
        "print(ifcopenshell.util.selector.get_element_value(wall, \"Dimensions.Area\"))"
      ]
    },
    {
      "cell_type": "markdown",
      "metadata": {},
      "source": [
        "# Export to tables and pandas dataframes\n",
        "\n",
        "see the `all_materials_query_duplex.json` file in the `IFC_Models` directory and adjust to your needs\n",
        "Code taken from Dion Moults IfcCSV contributions for Bonsai and wrapped for easy execution in a notebook"
      ]
    },
    {
      "cell_type": "code",
      "execution_count": null,
      "metadata": {
        "id": "zLwH3sXgTXko"
      },
      "outputs": [],
      "source": [
        "from utils import IfcCsvWrap as ifccsv\n",
        "df = ifccsv.get_ifc_csv(\"/content/sbe-2025-lca-workshop/data/IFC_models/Duplex_QTO.ifc\", \"/content/sbe-2025-lca-workshop/data/IFC_models/all_materials_query_duplex.json\")\n",
        "df"
      ]
    },
    {
      "cell_type": "code",
      "execution_count": null,
      "metadata": {
        "colab": {
          "base_uri": "https://localhost:8080/",
          "height": 317
        },
        "id": "oTqx7bgGT7sH",
        "outputId": "9a91ad8e-03c0-4e7d-b032-bd833714d3aa"
      },
      "outputs": [],
      "source": [
        "# Convert 'Area' column to numeric, coercing errors\n",
        "df['Area'] = pd.to_numeric(df['Area'], errors='coerce')\n",
        "\n",
        "\n",
        "# Group by 'mat.0' and sum the 'Area'\n",
        "grouped_df = df.groupby('mat.1')['Area'].sum().reset_index()\n",
        "\n",
        "# Rename the summed column for clarity (optional)\n",
        "grouped_df = grouped_df.rename(columns={'Area': 'Total Area'})\n",
        "\n",
        "# Print or display the result\n",
        "print(\"Grouped and summarized Area by mat.0:\")\n",
        "grouped_df"
      ]
    }
  ],
  "metadata": {
    "colab": {
      "provenance": []
    },
    "kernelspec": {
      "display_name": ".venv",
      "language": "python",
      "name": "python3"
    },
    "language_info": {
      "name": "python",
      "version": "3.11.5"
    }
  },
  "nbformat": 4,
  "nbformat_minor": 0
}
